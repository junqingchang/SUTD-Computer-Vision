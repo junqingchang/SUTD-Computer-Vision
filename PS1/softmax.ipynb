{
 "cells": [
  {
   "cell_type": "markdown",
   "metadata": {},
   "source": [
    "# Softmax exercise\n",
    "\n",
    "*Complete and hand in this completed worksheet (including its outputs and any supporting code outside of the worksheet) with your assignment submission.*\n",
    "\n",
    "In this exercise, you will:\n",
    "\n",
    "- implement a fully-vectorized **loss function** for the Softmax classifier\n",
    "- implement the fully-vectorized expression for its **analytic gradient**\n",
    "- **check your implementation** with numerical gradient\n",
    "- use a validation set to **tune the learning rate and regularization** strength\n",
    "- **optimize** the loss function with **SGD**\n",
    "- **visualize** the final learned weights\n"
   ]
  },
  {
   "cell_type": "code",
   "execution_count": 1,
   "metadata": {},
   "outputs": [],
   "source": [
    "import random\n",
    "import numpy as np\n",
    "from data_utils import load_CIFAR10\n",
    "import matplotlib.pyplot as plt\n",
    "\n",
    "%matplotlib inline\n",
    "plt.rcParams['figure.figsize'] = (10.0, 8.0) # set default size of plots\n",
    "plt.rcParams['image.interpolation'] = 'nearest'\n",
    "plt.rcParams['image.cmap'] = 'gray'\n",
    "\n",
    "# for auto-reloading extenrnal modules\n",
    "# see http://stackoverflow.com/questions/1907993/autoreload-of-modules-in-ipython\n",
    "%load_ext autoreload\n",
    "%autoreload 2"
   ]
  },
  {
   "cell_type": "code",
   "execution_count": 2,
   "metadata": {},
   "outputs": [],
   "source": [
    "def rel_error(out, correct_out):\n",
    "    return np.sum(abs(out - correct_out) / (abs(out) + abs(correct_out)))"
   ]
  },
  {
   "cell_type": "code",
   "execution_count": 3,
   "metadata": {},
   "outputs": [
    {
     "name": "stdout",
     "output_type": "stream",
     "text": [
      "Train data shape:  (49000, 3073)\n",
      "Train labels shape:  (49000,)\n",
      "Validation data shape:  (1000, 3073)\n",
      "Validation labels shape:  (1000,)\n",
      "Test data shape:  (1000, 3073)\n",
      "Test labels shape:  (1000,)\n",
      "dev data shape:  (500, 3073)\n",
      "dev labels shape:  (500,)\n"
     ]
    }
   ],
   "source": [
    "def get_CIFAR10_data(num_training=49000, num_validation=1000, num_test=1000, num_dev=500):\n",
    "    \"\"\"\n",
    "    Load the CIFAR-10 dataset from disk and perform preprocessing to prepare\n",
    "    it for the linear classifier. These are the same steps as we used for the\n",
    "    Softmax, but condensed to a single function.  \n",
    "    \"\"\"\n",
    "    # Load the raw CIFAR-10 data\n",
    "    cifar10_dir = 'datasets/cifar-10-batches-py'\n",
    "    X_train, y_train, X_test, y_test = load_CIFAR10(cifar10_dir)\n",
    "\n",
    "    # subsample the data\n",
    "    mask = range(num_training, num_training + num_validation)\n",
    "    X_val = X_train[mask]\n",
    "    y_val = y_train[mask]\n",
    "    mask = range(num_training)\n",
    "    X_train = X_train[mask]\n",
    "    y_train = y_train[mask]\n",
    "    mask = range(num_test)\n",
    "    X_test = X_test[mask]\n",
    "    y_test = y_test[mask]\n",
    "    \n",
    "    # # We will also make a development set, which is a small subset of\n",
    "    # the training set.\n",
    "    mask = np.random.choice(num_training, num_dev, replace=False)\n",
    "    X_dev = X_train[mask]\n",
    "    y_dev = y_train[mask]\n",
    "\n",
    "    # Preprocessing: reshape the image data into rows\n",
    "    X_train = np.reshape(X_train, (X_train.shape[0], -1))\n",
    "    X_val = np.reshape(X_val, (X_val.shape[0], -1))\n",
    "    X_test = np.reshape(X_test, (X_test.shape[0], -1))\n",
    "    X_dev = np.reshape(X_dev, (X_dev.shape[0], -1))\n",
    "\n",
    "    # Normalize the data: subtract the mean image\n",
    "    mean_image = np.mean(X_train, axis = 0)\n",
    "    X_train -= mean_image\n",
    "    X_val -= mean_image\n",
    "    X_test -= mean_image\n",
    "    X_dev -= mean_image\n",
    "\n",
    "    # add bias dimension and transform into columns\n",
    "    X_train = np.hstack([X_train, np.ones((X_train.shape[0], 1))])\n",
    "    X_val = np.hstack([X_val, np.ones((X_val.shape[0], 1))])\n",
    "    X_test = np.hstack([X_test, np.ones((X_test.shape[0], 1))])\n",
    "    X_dev = np.hstack([X_dev, np.ones((X_dev.shape[0], 1))])\n",
    "\n",
    "    return X_train, y_train, X_val, y_val, X_test, y_test, X_dev, y_dev\n",
    "\n",
    "\n",
    "# Invoke the above function to get our data.\n",
    "X_train, y_train, X_val, y_val, X_test, y_test, X_dev, y_dev = get_CIFAR10_data()\n",
    "print('Train data shape: ', X_train.shape)\n",
    "print('Train labels shape: ', y_train.shape)\n",
    "print('Validation data shape: ', X_val.shape)\n",
    "print('Validation labels shape: ', y_val.shape)\n",
    "print('Test data shape: ', X_test.shape)\n",
    "print('Test labels shape: ', y_test.shape)\n",
    "print('dev data shape: ', X_dev.shape)\n",
    "print('dev labels shape: ', y_dev.shape)"
   ]
  },
  {
   "cell_type": "code",
   "execution_count": 4,
   "metadata": {},
   "outputs": [],
   "source": [
    "# Create one-hot vectors for label\n",
    "num_class = 10\n",
    "y_train_oh = np.zeros((y_train.shape[0], 10))\n",
    "y_train_oh[np.arange(y_train.shape[0]), y_train] = 1\n",
    "y_val_oh = np.zeros((y_val.shape[0], 10))\n",
    "y_val_oh[np.arange(y_val.shape[0]), y_val] = 1\n",
    "y_test_oh = np.zeros((y_test.shape[0], 10))\n",
    "y_test_oh[np.arange(y_test.shape[0]), y_test] = 1\n",
    "\n",
    "y_dev_oh = np.zeros((y_dev.shape[0], 10))\n",
    "y_dev_oh[np.arange(y_dev.shape[0]), y_dev] = 1"
   ]
  },
  {
   "cell_type": "markdown",
   "metadata": {},
   "source": [
    "# Regression as classifier\n",
    "The most simple and straightforward approach to learn a classifier is to map the input data (raw image values) to class label (one-hot vector). The loss function is defined as following: \n",
    "$$\\mathcal{L}=\\frac{1}{n}\\|\\mathbf{X}\\mathbf{W}-\\mathbf{y}\\|_F^2\\qquad\\qquad(1)$$\n",
    "Where:\n",
    "* $\\mathbf{W}\\in \\mathbb{R}^{(d+1)\\times C}$: Classifier weight\n",
    "* $\\mathbf{X}\\in \\mathbb{R}^{n\\times (d+1)}$: Dataset\n",
    "* $\\mathbf{y}\\in \\mathbb{R}^{n\\times C}$: Class label (one-hot vector)"
   ]
  },
  {
   "cell_type": "markdown",
   "metadata": {},
   "source": [
    "# Optimization\n",
    "Given the loss function (1), the next problem is how to solve the weight $\\mathbf{W}$. We now discuss 2 approaches: \n",
    " * Random search\n",
    " * Closed-form solution\n",
    "\n",
    "## Random search"
   ]
  },
  {
   "cell_type": "code",
   "execution_count": 5,
   "metadata": {},
   "outputs": [
    {
     "name": "stdout",
     "output_type": "stream",
     "text": [
      "in attempt 0 the loss was 34.393928, best 34.393928\n",
      "in attempt 1 the loss was 30.519490, best 30.519490\n",
      "in attempt 2 the loss was 32.449885, best 30.519490\n",
      "in attempt 3 the loss was 32.358632, best 30.519490\n",
      "in attempt 4 the loss was 34.428078, best 30.519490\n",
      "in attempt 5 the loss was 32.923809, best 30.519490\n",
      "in attempt 6 the loss was 33.867275, best 30.519490\n",
      "in attempt 7 the loss was 35.006327, best 30.519490\n",
      "in attempt 8 the loss was 33.986503, best 30.519490\n",
      "in attempt 9 the loss was 33.752676, best 30.519490\n",
      "in attempt 10 the loss was 31.852424, best 30.519490\n",
      "in attempt 11 the loss was 32.867633, best 30.519490\n",
      "in attempt 12 the loss was 31.901147, best 30.519490\n",
      "in attempt 13 the loss was 30.909278, best 30.519490\n",
      "in attempt 14 the loss was 33.618547, best 30.519490\n",
      "in attempt 15 the loss was 32.378885, best 30.519490\n",
      "in attempt 16 the loss was 31.833938, best 30.519490\n",
      "in attempt 17 the loss was 32.677192, best 30.519490\n",
      "in attempt 18 the loss was 33.661380, best 30.519490\n",
      "in attempt 19 the loss was 32.035283, best 30.519490\n",
      "in attempt 20 the loss was 35.076666, best 30.519490\n",
      "in attempt 21 the loss was 32.462978, best 30.519490\n",
      "in attempt 22 the loss was 31.696446, best 30.519490\n",
      "in attempt 23 the loss was 31.480120, best 30.519490\n",
      "in attempt 24 the loss was 36.665358, best 30.519490\n",
      "in attempt 25 the loss was 32.805700, best 30.519490\n",
      "in attempt 26 the loss was 33.464136, best 30.519490\n",
      "in attempt 27 the loss was 34.996252, best 30.519490\n",
      "in attempt 28 the loss was 32.723091, best 30.519490\n",
      "in attempt 29 the loss was 31.078483, best 30.519490\n",
      "in attempt 30 the loss was 32.546250, best 30.519490\n",
      "in attempt 31 the loss was 33.521194, best 30.519490\n",
      "in attempt 32 the loss was 32.155400, best 30.519490\n",
      "in attempt 33 the loss was 35.270959, best 30.519490\n",
      "in attempt 34 the loss was 33.013106, best 30.519490\n",
      "in attempt 35 the loss was 31.290493, best 30.519490\n",
      "in attempt 36 the loss was 32.312153, best 30.519490\n",
      "in attempt 37 the loss was 32.962256, best 30.519490\n",
      "in attempt 38 the loss was 31.642363, best 30.519490\n",
      "in attempt 39 the loss was 35.561708, best 30.519490\n",
      "in attempt 40 the loss was 35.363973, best 30.519490\n",
      "in attempt 41 the loss was 32.375050, best 30.519490\n",
      "in attempt 42 the loss was 32.683851, best 30.519490\n",
      "in attempt 43 the loss was 34.630583, best 30.519490\n",
      "in attempt 44 the loss was 31.882045, best 30.519490\n",
      "in attempt 45 the loss was 32.836921, best 30.519490\n",
      "in attempt 46 the loss was 33.509347, best 30.519490\n",
      "in attempt 47 the loss was 36.003205, best 30.519490\n",
      "in attempt 48 the loss was 35.554924, best 30.519490\n",
      "in attempt 49 the loss was 34.641597, best 30.519490\n",
      "in attempt 50 the loss was 32.906969, best 30.519490\n",
      "in attempt 51 the loss was 31.972947, best 30.519490\n",
      "in attempt 52 the loss was 32.304989, best 30.519490\n",
      "in attempt 53 the loss was 31.422587, best 30.519490\n",
      "in attempt 54 the loss was 32.506871, best 30.519490\n",
      "in attempt 55 the loss was 31.682542, best 30.519490\n",
      "in attempt 56 the loss was 34.803236, best 30.519490\n",
      "in attempt 57 the loss was 32.551212, best 30.519490\n",
      "in attempt 58 the loss was 33.464934, best 30.519490\n",
      "in attempt 59 the loss was 33.894489, best 30.519490\n",
      "in attempt 60 the loss was 32.240282, best 30.519490\n",
      "in attempt 61 the loss was 32.287951, best 30.519490\n",
      "in attempt 62 the loss was 35.498825, best 30.519490\n",
      "in attempt 63 the loss was 31.046850, best 30.519490\n",
      "in attempt 64 the loss was 31.346946, best 30.519490\n",
      "in attempt 65 the loss was 33.803244, best 30.519490\n",
      "in attempt 66 the loss was 33.476334, best 30.519490\n",
      "in attempt 67 the loss was 35.990624, best 30.519490\n",
      "in attempt 68 the loss was 34.088332, best 30.519490\n",
      "in attempt 69 the loss was 33.609976, best 30.519490\n",
      "in attempt 70 the loss was 32.766351, best 30.519490\n",
      "in attempt 71 the loss was 32.456712, best 30.519490\n",
      "in attempt 72 the loss was 33.468071, best 30.519490\n",
      "in attempt 73 the loss was 33.780081, best 30.519490\n",
      "in attempt 74 the loss was 30.974518, best 30.519490\n",
      "in attempt 75 the loss was 32.908449, best 30.519490\n",
      "in attempt 76 the loss was 31.539249, best 30.519490\n",
      "in attempt 77 the loss was 31.900745, best 30.519490\n",
      "in attempt 78 the loss was 33.930264, best 30.519490\n",
      "in attempt 79 the loss was 31.750968, best 30.519490\n",
      "in attempt 80 the loss was 33.317366, best 30.519490\n",
      "in attempt 81 the loss was 33.215185, best 30.519490\n",
      "in attempt 82 the loss was 35.833957, best 30.519490\n",
      "in attempt 83 the loss was 32.584753, best 30.519490\n",
      "in attempt 84 the loss was 33.044257, best 30.519490\n",
      "in attempt 85 the loss was 32.778402, best 30.519490\n",
      "in attempt 86 the loss was 34.649594, best 30.519490\n",
      "in attempt 87 the loss was 32.702203, best 30.519490\n",
      "in attempt 88 the loss was 32.955587, best 30.519490\n",
      "in attempt 89 the loss was 33.083292, best 30.519490\n",
      "in attempt 90 the loss was 31.945120, best 30.519490\n",
      "in attempt 91 the loss was 31.118071, best 30.519490\n",
      "in attempt 92 the loss was 33.106180, best 30.519490\n",
      "in attempt 93 the loss was 34.260280, best 30.519490\n",
      "in attempt 94 the loss was 31.927740, best 30.519490\n",
      "in attempt 95 the loss was 32.694747, best 30.519490\n",
      "in attempt 96 the loss was 33.475632, best 30.519490\n",
      "in attempt 97 the loss was 33.433384, best 30.519490\n",
      "in attempt 98 the loss was 32.492593, best 30.519490\n",
      "in attempt 99 the loss was 34.629709, best 30.519490\n"
     ]
    }
   ],
   "source": [
    "bestloss = float('inf')\n",
    "for num in range(100):\n",
    "    W = np.random.randn(3073, 10) * 0.0001\n",
    "    loss = np.linalg.norm(X_dev.dot(W) - y_dev_oh)\n",
    "    if (loss < bestloss):\n",
    "        bestloss = loss\n",
    "        bestW = W\n",
    "    print('in attempt %d the loss was %f, best %f' % (num, loss, bestloss))"
   ]
  },
  {
   "cell_type": "code",
   "execution_count": 6,
   "metadata": {},
   "outputs": [
    {
     "name": "stdout",
     "output_type": "stream",
     "text": [
      "Accuracy on train set:  8.200000000000001\n",
      "Accuracy on test set:  11.700000000000001\n"
     ]
    }
   ],
   "source": [
    "# How bestW perform:\n",
    "print('Accuracy on train set: ', np.sum(np.argmin(np.abs(1 - X_dev.dot(W)), axis=1) == y_dev).astype(np.float32)/y_dev.shape[0]*100)\n",
    "print('Accuracy on test set: ', np.sum(np.argmin(np.abs(1 - X_test.dot(W)), axis=1) == y_test).astype(np.float32)/y_test.shape[0]*100)"
   ]
  },
  {
   "cell_type": "markdown",
   "metadata": {},
   "source": [
    "You can clearly see that the performance is very low, almost at the random level."
   ]
  },
  {
   "cell_type": "markdown",
   "metadata": {},
   "source": [
    "## Closed-form solution\n",
    "The closed-form solution is achieved by:\n",
    "$$\\frac{\\partial\\mathcal{L}}{\\partial \\mathbf{W}}=\\frac{2}{n}\\mathbf{X}^T(\\mathbf{X}\\mathbf{W}-\\mathbf{y})=0$$\n",
    "\n",
    "$$\\Leftrightarrow\\mathbf{W}^\\ast=(\\mathbf{X}^T\\mathbf{X})^{-1}\\mathbf{X}^T\\mathbf{y}$$"
   ]
  },
  {
   "cell_type": "code",
   "execution_count": 7,
   "metadata": {},
   "outputs": [],
   "source": [
    "################################################################################\n",
    "# TODO:                                                                        #\n",
    "# Implement the closed-form solution of the weight W.                          #\n",
    "################################################################################\n",
    "W = np.matmul(np.matmul(np.linalg.inv(np.matmul(X_train.T, X_train)),X_train.T), y_train_oh)\n",
    "\n",
    "################################################################################\n",
    "#                              END OF YOUR CODE                                #\n",
    "################################################################################"
   ]
  },
  {
   "cell_type": "code",
   "execution_count": 8,
   "metadata": {},
   "outputs": [
    {
     "name": "stdout",
     "output_type": "stream",
     "text": [
      "Train set accuracy:  51.163265306122454\n",
      "Test set accuracy:  36.199999999999996\n"
     ]
    }
   ],
   "source": [
    "# Check accuracy:\n",
    "print('Train set accuracy: ', np.sum(np.argmin(np.abs(1 - X_train.dot(W)), axis=1) == y_train).astype(np.float32)/y_train.shape[0]*100)\n",
    "print('Test set accuracy: ', np.sum(np.argmin(np.abs(1 - X_test.dot(W)), axis=1) == y_test).astype(np.float32)/y_test.shape[0]*100)"
   ]
  },
  {
   "cell_type": "markdown",
   "metadata": {},
   "source": [
    "Now, you can see that the performance is much better."
   ]
  },
  {
   "cell_type": "markdown",
   "metadata": {},
   "source": [
    "## Regularization\n",
    "A simple way to improve performance is to include the L2-regularization penalty.\n",
    "$$\\mathcal{L}=\\frac{1}{n}\\|\\mathbf{X}\\mathbf{W}-\\mathbf{y}\\|_F^2 +\\lambda \\|\\mathbf{W}\\|_F^2 \\qquad\\qquad(2)$$\n",
    "The closed-form solution now is: \n",
    "$$\\Leftrightarrow\\mathbf{W}^\\ast=(\\mathbf{X}^T\\mathbf{X}+\\lambda n\\mathbf{I})^{-1}\\mathbf{X}^T\\mathbf{y}$$"
   ]
  },
  {
   "cell_type": "code",
   "execution_count": 9,
   "metadata": {},
   "outputs": [],
   "source": [
    "# try several values of lambda to see how it helps:\n",
    "lambdas = [0.01, 0.1, 1, 10, 100, 1000, 10000, 100000]\n",
    "train_acc = np.zeros((len(lambdas)))\n",
    "test_acc = np.zeros((len(lambdas)))\n",
    "for i in range(len(lambdas)):\n",
    "    l = lambdas[i]\n",
    "    n,d = X_train.shape[0], X_train.shape[1]\n",
    "    ################################################################################\n",
    "    # TODO:                                                                        #\n",
    "    # Implement the closed-form solution of the weight W with regularization.      #\n",
    "    ################################################################################\n",
    "    W = np.matmul(np.matmul(np.linalg.inv(np.matmul(X_train.T,X_train) + n*l*np.identity(d)),X_train.T),y_train_oh)\n",
    "    ################################################################################\n",
    "    #                              END OF YOUR CODE                                #\n",
    "    ################################################################################\n",
    "    train_acc[i] = np.sum(np.argmin(np.abs(1 - X_train.dot(W)), axis=1) == y_train).astype(np.float32)/y_train.shape[0]*100\n",
    "    test_acc[i]  = np.sum(np.argmin(np.abs(1 - X_test.dot(W)), axis=1) == y_test).astype(np.float32)/y_test.shape[0]*100"
   ]
  },
  {
   "cell_type": "code",
   "execution_count": 10,
   "metadata": {},
   "outputs": [
    {
     "data": {
      "image/png": "[encoded data removed]",
      "text/plain": [
       "<Figure size 432x288 with 1 Axes>"
      ]
     },
     "metadata": {
      "needs_background": "light"
     },
     "output_type": "display_data"
    }
   ],
   "source": [
    "plt.semilogx(lambdas, train_acc, 'r', label=\"Training accuracy\")\n",
    "plt.semilogx(lambdas, test_acc, 'g', label=\"Testing accuracy\")\n",
    "\n",
    "plt.legend()\n",
    "plt.grid(True)\n",
    "plt.show()"
   ]
  },
  {
   "cell_type": "markdown",
   "metadata": {},
   "source": [
    "**Question:** Try to explain why the performances on the training and test set have such behaviors as we change the value of $\\lambda$."
   ]
  },
  {
   "cell_type": "markdown",
   "metadata": {},
   "source": [
    "**Your answer:** Fill in here\n",
    "\n",
    "As regularization increases, training accuracy decreases since training (using the training data) is penalised. Thus the model becomes further away from the training data. \n",
    "\n",
    "Testing accuracy increases then decrease as initially, the model becomes more \"generalised\" allowing better prediction on the testing set. However, as regularization increases further, it becomes overly regularized."
   ]
  },
  {
   "cell_type": "markdown",
   "metadata": {},
   "source": [
    "## Softmax Classifier\n",
    "\n",
    "The predicted probability for the $j$-th class given a sample vector $x$ and a weight $W$ is:\n",
    "\n",
    "$$\\displaystyle{P(y=j\\mid x)=\\frac{e^{-xw_j}}{\\sum\\limits_{c=1}^{C}e^{-xw_c}}}$$ \n",
    "\n",
    "![softmax](imgs/softmax.png \"Example of Softmax\")\n",
    "\n",
    "Your code for this section will all be written inside **classifiers/softmax.py**. \n"
   ]
  },
  {
   "cell_type": "code",
   "execution_count": 11,
   "metadata": {
    "scrolled": true
   },
   "outputs": [
    {
     "name": "stdout",
     "output_type": "stream",
     "text": [
      "loss: 2.365720\n",
      "sanity check: 2.302585\n"
     ]
    }
   ],
   "source": [
    "# First implement the naive softmax loss function with nested loops.\n",
    "# Open the file classifiers/softmax.py and implement the\n",
    "# softmax_loss_naive function.\n",
    "\n",
    "from classifiers.softmax import softmax_loss_naive\n",
    "import time\n",
    "\n",
    "# Generate a random softmax weight matrix and use it to compute the loss.\n",
    "W = np.random.randn(3073, 10) * 0.0001\n",
    "loss, grad = softmax_loss_naive(W, X_dev, y_dev, 0.0)\n",
    "\n",
    "# As a rough sanity check, our loss should be something close to -log(0.1).\n",
    "print('loss: %f' % loss)\n",
    "print('sanity check: %f' % (-np.log(0.1)))"
   ]
  },
  {
   "cell_type": "markdown",
   "metadata": {},
   "source": [
    "**Question:** Why do we expect our loss to be close to -log(0.1)? Explain briefly.**"
   ]
  },
  {
   "cell_type": "markdown",
   "metadata": {},
   "source": [
    "**Your answer:** Fill in here\n",
    "\n",
    "There are 10 classes. It is the average probability per class"
   ]
  },
  {
   "cell_type": "markdown",
   "metadata": {},
   "source": [
    "# Optimization\n",
    "\n",
    "\n",
    "## Random search"
   ]
  },
  {
   "cell_type": "code",
   "execution_count": 12,
   "metadata": {},
   "outputs": [
    {
     "name": "stdout",
     "output_type": "stream",
     "text": [
      "in attempt 0 the loss was 2.444791, best 2.444791\n",
      "in attempt 1 the loss was 2.350226, best 2.350226\n",
      "in attempt 2 the loss was 2.359253, best 2.350226\n",
      "in attempt 3 the loss was 2.355820, best 2.350226\n",
      "in attempt 4 the loss was 2.406799, best 2.350226\n",
      "in attempt 5 the loss was 2.362762, best 2.350226\n",
      "in attempt 6 the loss was 2.333948, best 2.333948\n",
      "in attempt 7 the loss was 2.314687, best 2.314687\n",
      "in attempt 8 the loss was 2.327703, best 2.314687\n",
      "in attempt 9 the loss was 2.297980, best 2.297980\n",
      "in attempt 10 the loss was 2.349750, best 2.297980\n",
      "in attempt 11 the loss was 2.402569, best 2.297980\n",
      "in attempt 12 the loss was 2.350318, best 2.297980\n",
      "in attempt 13 the loss was 2.383877, best 2.297980\n",
      "in attempt 14 the loss was 2.359327, best 2.297980\n",
      "in attempt 15 the loss was 2.352645, best 2.297980\n",
      "in attempt 16 the loss was 2.330629, best 2.297980\n",
      "in attempt 17 the loss was 2.316823, best 2.297980\n",
      "in attempt 18 the loss was 2.330964, best 2.297980\n",
      "in attempt 19 the loss was 2.345581, best 2.297980\n",
      "in attempt 20 the loss was 2.382264, best 2.297980\n",
      "in attempt 21 the loss was 2.341777, best 2.297980\n",
      "in attempt 22 the loss was 2.352340, best 2.297980\n",
      "in attempt 23 the loss was 2.464117, best 2.297980\n",
      "in attempt 24 the loss was 2.330748, best 2.297980\n",
      "in attempt 25 the loss was 2.307026, best 2.297980\n",
      "in attempt 26 the loss was 2.317678, best 2.297980\n",
      "in attempt 27 the loss was 2.405463, best 2.297980\n",
      "in attempt 28 the loss was 2.386943, best 2.297980\n",
      "in attempt 29 the loss was 2.378986, best 2.297980\n",
      "in attempt 30 the loss was 2.345171, best 2.297980\n",
      "in attempt 31 the loss was 2.328246, best 2.297980\n",
      "in attempt 32 the loss was 2.331362, best 2.297980\n",
      "in attempt 33 the loss was 2.377222, best 2.297980\n",
      "in attempt 34 the loss was 2.328709, best 2.297980\n",
      "in attempt 35 the loss was 2.395614, best 2.297980\n",
      "in attempt 36 the loss was 2.364727, best 2.297980\n",
      "in attempt 37 the loss was 2.441376, best 2.297980\n",
      "in attempt 38 the loss was 2.373055, best 2.297980\n",
      "in attempt 39 the loss was 2.337180, best 2.297980\n",
      "in attempt 40 the loss was 2.352636, best 2.297980\n",
      "in attempt 41 the loss was 2.355216, best 2.297980\n",
      "in attempt 42 the loss was 2.421091, best 2.297980\n",
      "in attempt 43 the loss was 2.373294, best 2.297980\n",
      "in attempt 44 the loss was 2.371286, best 2.297980\n",
      "in attempt 45 the loss was 2.432900, best 2.297980\n",
      "in attempt 46 the loss was 2.328176, best 2.297980\n",
      "in attempt 47 the loss was 2.344328, best 2.297980\n",
      "in attempt 48 the loss was 2.327606, best 2.297980\n",
      "in attempt 49 the loss was 2.352625, best 2.297980\n",
      "in attempt 50 the loss was 2.292144, best 2.292144\n",
      "in attempt 51 the loss was 2.339277, best 2.292144\n",
      "in attempt 52 the loss was 2.353039, best 2.292144\n",
      "in attempt 53 the loss was 2.332285, best 2.292144\n",
      "in attempt 54 the loss was 2.367456, best 2.292144\n",
      "in attempt 55 the loss was 2.387854, best 2.292144\n",
      "in attempt 56 the loss was 2.336122, best 2.292144\n",
      "in attempt 57 the loss was 2.384267, best 2.292144\n",
      "in attempt 58 the loss was 2.386726, best 2.292144\n",
      "in attempt 59 the loss was 2.327881, best 2.292144\n",
      "in attempt 60 the loss was 2.449587, best 2.292144\n",
      "in attempt 61 the loss was 2.381706, best 2.292144\n",
      "in attempt 62 the loss was 2.357425, best 2.292144\n",
      "in attempt 63 the loss was 2.323560, best 2.292144\n",
      "in attempt 64 the loss was 2.340569, best 2.292144\n",
      "in attempt 65 the loss was 2.364262, best 2.292144\n",
      "in attempt 66 the loss was 2.305061, best 2.292144\n",
      "in attempt 67 the loss was 2.365801, best 2.292144\n",
      "in attempt 68 the loss was 2.371746, best 2.292144\n",
      "in attempt 69 the loss was 2.381807, best 2.292144\n",
      "in attempt 70 the loss was 2.343529, best 2.292144\n",
      "in attempt 71 the loss was 2.379191, best 2.292144\n",
      "in attempt 72 the loss was 2.343788, best 2.292144\n",
      "in attempt 73 the loss was 2.361868, best 2.292144\n",
      "in attempt 74 the loss was 2.340755, best 2.292144\n",
      "in attempt 75 the loss was 2.425641, best 2.292144\n",
      "in attempt 76 the loss was 2.347205, best 2.292144\n",
      "in attempt 77 the loss was 2.356225, best 2.292144\n",
      "in attempt 78 the loss was 2.346053, best 2.292144\n",
      "in attempt 79 the loss was 2.362947, best 2.292144\n",
      "in attempt 80 the loss was 2.343781, best 2.292144\n",
      "in attempt 81 the loss was 2.324672, best 2.292144\n",
      "in attempt 82 the loss was 2.332983, best 2.292144\n",
      "in attempt 83 the loss was 2.304573, best 2.292144\n",
      "in attempt 84 the loss was 2.373973, best 2.292144\n",
      "in attempt 85 the loss was 2.328297, best 2.292144\n",
      "in attempt 86 the loss was 2.324196, best 2.292144\n",
      "in attempt 87 the loss was 2.308911, best 2.292144\n",
      "in attempt 88 the loss was 2.366317, best 2.292144\n",
      "in attempt 89 the loss was 2.393302, best 2.292144\n",
      "in attempt 90 the loss was 2.357381, best 2.292144\n",
      "in attempt 91 the loss was 2.328393, best 2.292144\n",
      "in attempt 92 the loss was 2.398620, best 2.292144\n",
      "in attempt 93 the loss was 2.379567, best 2.292144\n",
      "in attempt 94 the loss was 2.365184, best 2.292144\n",
      "in attempt 95 the loss was 2.356484, best 2.292144\n",
      "in attempt 96 the loss was 2.365713, best 2.292144\n",
      "in attempt 97 the loss was 2.323896, best 2.292144\n",
      "in attempt 98 the loss was 2.358517, best 2.292144\n",
      "in attempt 99 the loss was 2.381906, best 2.292144\n"
     ]
    }
   ],
   "source": [
    "bestloss = float('inf')\n",
    "for num in range(100):\n",
    "    W = np.random.randn(3073, 10) * 0.0001\n",
    "    loss, _ = softmax_loss_naive(W, X_dev, y_dev, 0.0)\n",
    "    if (loss < bestloss):\n",
    "        bestloss = loss\n",
    "        bestW = W\n",
    "    print('in attempt %d the loss was %f, best %f' % (num, loss, bestloss))"
   ]
  },
  {
   "cell_type": "code",
   "execution_count": 13,
   "metadata": {},
   "outputs": [
    {
     "name": "stdout",
     "output_type": "stream",
     "text": [
      "Accuracy on train set 0.112041\n",
      "Accuracy on test set 0.096000\n"
     ]
    }
   ],
   "source": [
    "# How bestW perform on trainset\n",
    "scores = X_train.dot(bestW)\n",
    "y_pred = np.argmax(scores, axis=1)\n",
    "print('Accuracy on train set %f' % np.mean(y_pred == y_train))\n",
    "\n",
    "# evaluate performance of test set\n",
    "scores = X_test.dot(bestW)\n",
    "y_pred = np.argmax(scores, axis=1)\n",
    "print('Accuracy on test set %f' % np.mean(y_pred == y_test))"
   ]
  },
  {
   "cell_type": "markdown",
   "metadata": {},
   "source": [
    "Compare the performance when using random search with *regression classifier* and *softmax classifier*. You can see how much useful the softmax classifier is."
   ]
  },
  {
   "cell_type": "markdown",
   "metadata": {},
   "source": [
    "## Stochastic Gradient descent\n",
    "Even though it is possible to achieve closed-form solution with softmax classifier, it would be more complicated. In fact, we could achieve very good results with gradient descent approach. Additionally, in case of very large dataset, it is impossible to load the whole dataset into the memory. Gradient descent can help to optimize the loss function in batch. \n",
    "\n",
    "$$\\mathbf{W}^{t+1}=\\mathbf{W}^{t}−\\alpha \\frac{\\partial\\mathcal{L(\\mathbf{x};\\mathbf{W}^{t})}}{\\partial\\mathbf{W}^{t}}$$\n",
    "\n",
    "Where $\\alpha$ is the learning rate, $\\mathcal{L}$ is a loss function, and $\\mathbf{x}$ is a batch of training dataset."
   ]
  },
  {
   "cell_type": "code",
   "execution_count": 14,
   "metadata": {},
   "outputs": [
    {
     "name": "stdout",
     "output_type": "stream",
     "text": [
      "numerical: -0.460559 analytic: -0.460560, relative error: 1.342489e-07\n",
      "numerical: 0.533089 analytic: 0.533089, relative error: 8.297426e-08\n",
      "numerical: 0.618184 analytic: 0.618184, relative error: 5.844531e-08\n",
      "numerical: -0.871183 analytic: -0.871183, relative error: 2.138603e-08\n",
      "numerical: -3.339929 analytic: -3.339929, relative error: 2.364019e-09\n",
      "numerical: -2.656878 analytic: -2.656878, relative error: 5.484551e-09\n",
      "numerical: -2.699695 analytic: -2.699695, relative error: 2.859387e-09\n",
      "numerical: 1.549292 analytic: 1.549292, relative error: 4.745746e-08\n",
      "numerical: -1.202114 analytic: -1.202114, relative error: 3.582565e-08\n",
      "numerical: -0.558701 analytic: -0.558701, relative error: 2.694464e-08\n",
      "numerical: 0.638163 analytic: 0.638163, relative error: 1.175406e-08\n",
      "numerical: 0.727814 analytic: 0.727814, relative error: 5.651880e-08\n",
      "numerical: 0.093812 analytic: 0.093812, relative error: 4.120904e-07\n",
      "numerical: -1.341635 analytic: -1.341636, relative error: 3.845743e-08\n",
      "numerical: 2.869986 analytic: 2.869986, relative error: 3.577724e-09\n",
      "numerical: 0.980015 analytic: 0.980015, relative error: 8.972693e-08\n",
      "numerical: -1.877714 analytic: -1.877714, relative error: 3.287474e-08\n",
      "numerical: 0.611608 analytic: 0.611608, relative error: 1.981646e-08\n",
      "numerical: -1.296341 analytic: -1.296342, relative error: 6.241699e-09\n",
      "numerical: 2.616105 analytic: 2.616105, relative error: 2.295297e-08\n"
     ]
    }
   ],
   "source": [
    "# Complete the implementation of softmax_loss_naive and implement a (naive)\n",
    "# version of the gradient that uses nested loops.\n",
    "loss, grad = softmax_loss_naive(W, X_dev, y_dev, 0.0)\n",
    "\n",
    "# Use numeric gradient checking as a debugging tool.\n",
    "# The numeric gradient should be close to the analytic gradient.\n",
    "from gradient_check import grad_check_sparse\n",
    "f = lambda w: softmax_loss_naive(w, X_dev, y_dev, 0.0)[0]\n",
    "grad_numerical = grad_check_sparse(f, W, grad, 10)\n",
    "\n",
    "# gradient check with regularization\n",
    "loss, grad = softmax_loss_naive(W, X_dev, y_dev, 1e2)\n",
    "f = lambda w: softmax_loss_naive(w, X_dev, y_dev, 1e2)[0]\n",
    "grad_numerical = grad_check_sparse(f, W, grad, 10)"
   ]
  },
  {
   "cell_type": "code",
   "execution_count": 27,
   "metadata": {},
   "outputs": [
    {
     "name": "stdout",
     "output_type": "stream",
     "text": [
      "naive loss: 2.381906e+00 computed in 0.090384s\n",
      "vectorized loss: 2.381906e+00 computed in 0.004000s\n",
      "Loss difference: 0.000000\n",
      "Gradient difference: 0.000000\n"
     ]
    }
   ],
   "source": [
    "# Now that we have a naive implementation of the softmax loss function and its gradient,\n",
    "# implement a vectorized version in softmax_loss_vectorized.\n",
    "# The two versions should compute the same results, but the vectorized version should be\n",
    "# much faster.\n",
    "tic = time.time()\n",
    "loss_naive, grad_naive = softmax_loss_naive(W, X_dev, y_dev, 0.00001)\n",
    "toc = time.time()\n",
    "print('naive loss: %e computed in %fs' % (loss_naive, toc - tic))\n",
    "\n",
    "from classifiers.softmax import softmax_loss_vectorized\n",
    "tic = time.time()\n",
    "loss_vectorized, grad_vectorized = softmax_loss_vectorized(W, X_dev, y_dev, 0.00001)\n",
    "toc = time.time()\n",
    "print('vectorized loss: %e computed in %fs' % (loss_vectorized, toc - tic))\n",
    "\n",
    "# We use the Frobenius norm to compare the two versions\n",
    "# of the gradient.\n",
    "grad_difference = np.linalg.norm(grad_naive - grad_vectorized, ord='fro')\n",
    "print('Loss difference: %f' % np.abs(loss_naive - loss_vectorized))\n",
    "print('Gradient difference: %f' % grad_difference)"
   ]
  },
  {
   "cell_type": "code",
   "execution_count": 28,
   "metadata": {},
   "outputs": [
    {
     "name": "stdout",
     "output_type": "stream",
     "text": [
      "iteration 0 / 1500: loss 761.190667\n",
      "iteration 100 / 1500: loss 279.397598\n",
      "iteration 200 / 1500: loss 103.451688\n",
      "iteration 300 / 1500: loss 39.276965\n",
      "iteration 400 / 1500: loss 15.631933\n",
      "iteration 500 / 1500: loss 7.081458\n",
      "iteration 600 / 1500: loss 3.902425\n",
      "iteration 700 / 1500: loss 2.795798\n",
      "iteration 800 / 1500: loss 2.324842\n",
      "iteration 900 / 1500: loss 2.144973\n",
      "iteration 1000 / 1500: loss 2.176660\n",
      "iteration 1100 / 1500: loss 2.071147\n",
      "iteration 1200 / 1500: loss 2.063922\n",
      "iteration 1300 / 1500: loss 2.062663\n",
      "iteration 1400 / 1500: loss 2.120899\n",
      "That took 2.846217s\n"
     ]
    }
   ],
   "source": [
    "from classifiers.linear_classifier import *\n",
    "# from classifiers import linear_classifier\n",
    "\n",
    "classifier = Softmax()\n",
    "tic = time.time()\n",
    "loss_hist = classifier.train(X_train, y_train, learning_rate=1e-7, reg=5e4,\n",
    "                                  num_iters=1500, verbose=True)\n",
    "toc = time.time()\n",
    "print('That took %fs' % (toc - tic))"
   ]
  },
  {
   "cell_type": "code",
   "execution_count": 43,
   "metadata": {},
   "outputs": [
    {
     "name": "stdout",
     "output_type": "stream",
     "text": [
      "training accuracy: 0.324184\n",
      "validation accuracy: 0.340000\n"
     ]
    }
   ],
   "source": [
    "# Write the Softmax.predict function and evaluate the performance on both the\n",
    "# training and validation set\n",
    "y_train_pred = classifier.predict(X_train)\n",
    "print('training accuracy: %f' % (np.mean(y_train == y_train_pred), ))\n",
    "y_val_pred = classifier.predict(X_val)\n",
    "print('validation accuracy: %f' % (np.mean(y_val == y_val_pred), ))"
   ]
  },
  {
   "cell_type": "code",
   "execution_count": 44,
   "metadata": {},
   "outputs": [
    {
     "data": {
      "image/png": "[encoded data removed]",
      "text/plain": [
       "<Figure size 432x288 with 1 Axes>"
      ]
     },
     "metadata": {
      "needs_background": "light"
     },
     "output_type": "display_data"
    }
   ],
   "source": [
    "# A useful debugging strategy is to plot the loss as a function of\n",
    "# iteration number:\n",
    "plt.plot(loss_hist)\n",
    "plt.xlabel('Iteration number')\n",
    "plt.ylabel('Loss value')\n",
    "plt.show()"
   ]
  },
  {
   "cell_type": "code",
   "execution_count": 45,
   "metadata": {},
   "outputs": [
    {
     "name": "stdout",
     "output_type": "stream",
     "text": [
      "softmax on raw pixels final test set accuracy: 34.40\n"
     ]
    }
   ],
   "source": [
    "# evaluate on test set\n",
    "# Evaluate the best softmax on test set\n",
    "y_test_pred = classifier.predict(X_test)\n",
    "test_accuracy = np.mean(y_test == y_test_pred)\n",
    "print('softmax on raw pixels final test set accuracy: %.2f' % (100*test_accuracy, ))"
   ]
  },
  {
   "cell_type": "code",
   "execution_count": 46,
   "metadata": {},
   "outputs": [
    {
     "name": "stdout",
     "output_type": "stream",
     "text": [
      "iteration 0 / 1500: loss 5.751922\n",
      "iteration 100 / 1500: loss 20.308866\n",
      "iteration 200 / 1500: loss 27.777122\n",
      "iteration 300 / 1500: loss 17.158892\n",
      "iteration 400 / 1500: loss 27.620605\n",
      "iteration 500 / 1500: loss 32.398785\n",
      "iteration 600 / 1500: loss 28.731222\n",
      "iteration 700 / 1500: loss 25.954695\n",
      "iteration 800 / 1500: loss 35.455409\n",
      "iteration 900 / 1500: loss 24.123352\n",
      "iteration 1000 / 1500: loss 18.790200\n",
      "iteration 1100 / 1500: loss 24.149677\n",
      "iteration 1200 / 1500: loss 30.252764\n",
      "iteration 1300 / 1500: loss 28.683276\n",
      "iteration 1400 / 1500: loss 26.455454\n",
      "iteration 0 / 1500: loss 5.630516\n",
      "iteration 100 / 1500: loss 25.975355\n",
      "iteration 200 / 1500: loss 28.352620\n",
      "iteration 300 / 1500: loss 26.875154\n",
      "iteration 400 / 1500: loss 25.974025\n",
      "iteration 500 / 1500: loss 35.075275\n",
      "iteration 600 / 1500: loss 29.916622\n",
      "iteration 700 / 1500: loss 20.629986\n",
      "iteration 800 / 1500: loss 25.606120\n",
      "iteration 900 / 1500: loss 16.650352\n",
      "iteration 1000 / 1500: loss 22.600458\n",
      "iteration 1100 / 1500: loss 36.017443\n",
      "iteration 1200 / 1500: loss 21.276959\n",
      "iteration 1300 / 1500: loss 24.695625\n",
      "iteration 1400 / 1500: loss 21.887663\n",
      "iteration 0 / 1500: loss 5.213413\n",
      "iteration 100 / 1500: loss 28.616522\n",
      "iteration 200 / 1500: loss 17.210898\n",
      "iteration 300 / 1500: loss 21.962965\n",
      "iteration 400 / 1500: loss 24.100798\n",
      "iteration 500 / 1500: loss 25.256354\n",
      "iteration 600 / 1500: loss 44.245046\n",
      "iteration 700 / 1500: loss 27.572773\n",
      "iteration 800 / 1500: loss 24.362869\n",
      "iteration 900 / 1500: loss 23.508256\n",
      "iteration 1000 / 1500: loss 27.176197\n",
      "iteration 1100 / 1500: loss 22.886922\n",
      "iteration 1200 / 1500: loss 26.916559\n",
      "iteration 1300 / 1500: loss 35.253493\n",
      "iteration 1400 / 1500: loss 25.696459\n",
      "iteration 0 / 1500: loss 6.371160\n",
      "iteration 100 / 1500: loss 23.700298\n",
      "iteration 200 / 1500: loss 35.603418\n",
      "iteration 300 / 1500: loss 29.846247\n",
      "iteration 400 / 1500: loss 25.688940\n",
      "iteration 500 / 1500: loss 31.043448\n",
      "iteration 600 / 1500: loss 23.094095\n",
      "iteration 700 / 1500: loss 38.427383\n",
      "iteration 800 / 1500: loss 46.373576\n",
      "iteration 900 / 1500: loss 29.840566\n",
      "iteration 1000 / 1500: loss 22.904523\n",
      "iteration 1100 / 1500: loss 29.780069\n",
      "iteration 1200 / 1500: loss 26.448280\n",
      "iteration 1300 / 1500: loss 19.508651\n",
      "iteration 1400 / 1500: loss 27.508282\n",
      "iteration 0 / 1500: loss 5.893152\n",
      "iteration 100 / 1500: loss 29.217130\n",
      "iteration 200 / 1500: loss 27.465540\n",
      "iteration 300 / 1500: loss 26.051559\n",
      "iteration 400 / 1500: loss 37.655238\n",
      "iteration 500 / 1500: loss 23.158917\n",
      "iteration 600 / 1500: loss 39.073270\n",
      "iteration 700 / 1500: loss 26.690055\n",
      "iteration 800 / 1500: loss 30.435345\n",
      "iteration 900 / 1500: loss 28.360215\n",
      "iteration 1000 / 1500: loss 32.565640\n",
      "iteration 1100 / 1500: loss 22.560941\n",
      "iteration 1200 / 1500: loss 34.281252\n",
      "iteration 1300 / 1500: loss 36.769840\n",
      "iteration 1400 / 1500: loss 34.965905\n",
      "iteration 0 / 1500: loss 5.292228\n",
      "iteration 100 / 1500: loss 2.774588\n",
      "iteration 200 / 1500: loss 3.622822\n",
      "iteration 300 / 1500: loss 2.879779\n",
      "iteration 400 / 1500: loss 2.973163\n",
      "iteration 500 / 1500: loss 2.816671\n",
      "iteration 600 / 1500: loss 3.690804\n",
      "iteration 700 / 1500: loss 2.351930\n",
      "iteration 800 / 1500: loss 3.091596\n",
      "iteration 900 / 1500: loss 2.823903\n",
      "iteration 1000 / 1500: loss 3.053613\n",
      "iteration 1100 / 1500: loss 2.798275\n",
      "iteration 1200 / 1500: loss 2.255519\n",
      "iteration 1300 / 1500: loss 3.344810\n",
      "iteration 1400 / 1500: loss 3.658164\n",
      "iteration 0 / 1500: loss 4.987544\n",
      "iteration 100 / 1500: loss 2.685975\n",
      "iteration 200 / 1500: loss 2.369584\n",
      "iteration 300 / 1500: loss 2.257011\n",
      "iteration 400 / 1500: loss 3.137440\n",
      "iteration 500 / 1500: loss 2.884803\n",
      "iteration 600 / 1500: loss 3.139472\n",
      "iteration 700 / 1500: loss 2.477705\n",
      "iteration 800 / 1500: loss 2.321031\n",
      "iteration 900 / 1500: loss 3.255086\n",
      "iteration 1000 / 1500: loss 2.735100\n",
      "iteration 1100 / 1500: loss 3.632789\n",
      "iteration 1200 / 1500: loss 2.755755\n",
      "iteration 1300 / 1500: loss 2.172191\n",
      "iteration 1400 / 1500: loss 3.259874\n",
      "iteration 0 / 1500: loss 4.987676\n",
      "iteration 100 / 1500: loss 2.786205\n",
      "iteration 200 / 1500: loss 2.829950\n",
      "iteration 300 / 1500: loss 3.300553\n",
      "iteration 400 / 1500: loss 2.644963\n",
      "iteration 500 / 1500: loss 2.522639\n",
      "iteration 600 / 1500: loss 3.143608\n",
      "iteration 700 / 1500: loss 2.229267\n",
      "iteration 800 / 1500: loss 3.248948\n",
      "iteration 900 / 1500: loss 2.400234\n",
      "iteration 1000 / 1500: loss 3.646136\n",
      "iteration 1100 / 1500: loss 2.232422\n",
      "iteration 1200 / 1500: loss 2.520767\n",
      "iteration 1300 / 1500: loss 2.845810\n",
      "iteration 1400 / 1500: loss 3.060858\n",
      "iteration 0 / 1500: loss 5.979042\n",
      "iteration 100 / 1500: loss 3.681059\n",
      "iteration 200 / 1500: loss 3.065597\n",
      "iteration 300 / 1500: loss 2.916971\n",
      "iteration 400 / 1500: loss 3.015524\n",
      "iteration 500 / 1500: loss 3.477493\n",
      "iteration 600 / 1500: loss 2.553981\n",
      "iteration 700 / 1500: loss 2.257275\n",
      "iteration 800 / 1500: loss 2.321200\n",
      "iteration 900 / 1500: loss 3.174933\n",
      "iteration 1000 / 1500: loss 1.973882\n",
      "iteration 1100 / 1500: loss 3.288896\n",
      "iteration 1200 / 1500: loss 2.881387\n",
      "iteration 1300 / 1500: loss 2.888068\n",
      "iteration 1400 / 1500: loss 2.628099\n",
      "iteration 0 / 1500: loss 5.803989\n",
      "iteration 100 / 1500: loss 2.683230\n",
      "iteration 200 / 1500: loss 2.971850\n",
      "iteration 300 / 1500: loss 2.568575\n",
      "iteration 400 / 1500: loss 3.033233\n",
      "iteration 500 / 1500: loss 2.030806\n",
      "iteration 600 / 1500: loss 2.018422\n",
      "iteration 700 / 1500: loss 2.678212\n",
      "iteration 800 / 1500: loss 2.277390\n",
      "iteration 900 / 1500: loss 3.124556\n",
      "iteration 1000 / 1500: loss 3.168057\n",
      "iteration 1100 / 1500: loss 2.566793\n",
      "iteration 1200 / 1500: loss 2.204453\n",
      "iteration 1300 / 1500: loss 3.541555\n",
      "iteration 1400 / 1500: loss 3.942469\n",
      "iteration 0 / 1500: loss 5.078493\n",
      "iteration 100 / 1500: loss 2.694090\n",
      "iteration 200 / 1500: loss 2.706521\n",
      "iteration 300 / 1500: loss 2.344603\n",
      "iteration 400 / 1500: loss 2.386709\n",
      "iteration 500 / 1500: loss 2.189337\n",
      "iteration 600 / 1500: loss 2.294426\n",
      "iteration 700 / 1500: loss 1.834644\n",
      "iteration 800 / 1500: loss 2.064321\n",
      "iteration 900 / 1500: loss 2.112666\n",
      "iteration 1000 / 1500: loss 2.076632\n",
      "iteration 1100 / 1500: loss 1.943344\n",
      "iteration 1200 / 1500: loss 2.095332\n",
      "iteration 1300 / 1500: loss 1.923915\n",
      "iteration 1400 / 1500: loss 1.855377\n",
      "iteration 0 / 1500: loss 5.495138\n",
      "iteration 100 / 1500: loss 2.835382\n",
      "iteration 200 / 1500: loss 2.576820\n",
      "iteration 300 / 1500: loss 2.319076\n",
      "iteration 400 / 1500: loss 2.256839\n",
      "iteration 500 / 1500: loss 2.109795\n",
      "iteration 600 / 1500: loss 2.354172\n",
      "iteration 700 / 1500: loss 2.103093\n",
      "iteration 800 / 1500: loss 2.031606\n",
      "iteration 900 / 1500: loss 2.215760\n",
      "iteration 1000 / 1500: loss 1.838812\n",
      "iteration 1100 / 1500: loss 2.084452\n",
      "iteration 1200 / 1500: loss 1.982859\n",
      "iteration 1300 / 1500: loss 1.890133\n",
      "iteration 1400 / 1500: loss 1.750057\n",
      "iteration 0 / 1500: loss 5.663463\n",
      "iteration 100 / 1500: loss 2.683091\n",
      "iteration 200 / 1500: loss 2.249305\n",
      "iteration 300 / 1500: loss 2.484211\n",
      "iteration 400 / 1500: loss 2.400597\n",
      "iteration 500 / 1500: loss 2.241984\n",
      "iteration 600 / 1500: loss 2.077732\n",
      "iteration 700 / 1500: loss 2.234964\n",
      "iteration 800 / 1500: loss 2.029090\n",
      "iteration 900 / 1500: loss 2.008646\n",
      "iteration 1000 / 1500: loss 2.067791\n",
      "iteration 1100 / 1500: loss 1.799560\n",
      "iteration 1200 / 1500: loss 2.096422\n",
      "iteration 1300 / 1500: loss 1.995200\n",
      "iteration 1400 / 1500: loss 1.859014\n",
      "iteration 0 / 1500: loss 5.416215\n",
      "iteration 100 / 1500: loss 3.046163\n",
      "iteration 200 / 1500: loss 2.713265\n",
      "iteration 300 / 1500: loss 2.296213\n",
      "iteration 400 / 1500: loss 2.380322\n",
      "iteration 500 / 1500: loss 2.046599\n",
      "iteration 600 / 1500: loss 2.136974\n",
      "iteration 700 / 1500: loss 1.913620\n",
      "iteration 800 / 1500: loss 1.921129\n",
      "iteration 900 / 1500: loss 2.064046\n",
      "iteration 1000 / 1500: loss 1.882597\n",
      "iteration 1100 / 1500: loss 1.974180\n",
      "iteration 1200 / 1500: loss 1.970732\n",
      "iteration 1300 / 1500: loss 1.849081\n",
      "iteration 1400 / 1500: loss 2.005387\n",
      "iteration 0 / 1500: loss 6.463876\n",
      "iteration 100 / 1500: loss 2.872776\n",
      "iteration 200 / 1500: loss 2.623432\n",
      "iteration 300 / 1500: loss 2.562303\n",
      "iteration 400 / 1500: loss 2.380389\n",
      "iteration 500 / 1500: loss 2.186694\n",
      "iteration 600 / 1500: loss 2.140761\n",
      "iteration 700 / 1500: loss 2.154943\n",
      "iteration 800 / 1500: loss 2.116850\n",
      "iteration 900 / 1500: loss 2.090924\n",
      "iteration 1000 / 1500: loss 2.204529\n",
      "iteration 1100 / 1500: loss 2.145447\n",
      "iteration 1200 / 1500: loss 1.898620\n",
      "iteration 1300 / 1500: loss 1.820990\n",
      "iteration 1400 / 1500: loss 1.920955\n",
      "iteration 0 / 1500: loss 5.463239\n"
     ]
    },
    {
     "name": "stdout",
     "output_type": "stream",
     "text": [
      "iteration 100 / 1500: loss 3.056638\n",
      "iteration 200 / 1500: loss 3.054546\n",
      "iteration 300 / 1500: loss 2.724621\n",
      "iteration 400 / 1500: loss 2.795981\n",
      "iteration 500 / 1500: loss 2.616969\n",
      "iteration 600 / 1500: loss 2.339060\n",
      "iteration 700 / 1500: loss 2.383793\n",
      "iteration 800 / 1500: loss 2.321111\n",
      "iteration 900 / 1500: loss 2.292936\n",
      "iteration 1000 / 1500: loss 1.935754\n",
      "iteration 1100 / 1500: loss 2.225202\n",
      "iteration 1200 / 1500: loss 2.056244\n",
      "iteration 1300 / 1500: loss 2.265855\n",
      "iteration 1400 / 1500: loss 2.269400\n",
      "iteration 0 / 1500: loss 5.480894\n",
      "iteration 100 / 1500: loss 3.110675\n",
      "iteration 200 / 1500: loss 2.854882\n",
      "iteration 300 / 1500: loss 2.525343\n",
      "iteration 400 / 1500: loss 2.466578\n",
      "iteration 500 / 1500: loss 2.483129\n",
      "iteration 600 / 1500: loss 2.437654\n",
      "iteration 700 / 1500: loss 2.184771\n",
      "iteration 800 / 1500: loss 2.322615\n",
      "iteration 900 / 1500: loss 2.143513\n",
      "iteration 1000 / 1500: loss 2.391282\n",
      "iteration 1100 / 1500: loss 2.312991\n",
      "iteration 1200 / 1500: loss 2.215274\n",
      "iteration 1300 / 1500: loss 2.072154\n",
      "iteration 1400 / 1500: loss 2.333828\n",
      "iteration 0 / 1500: loss 5.660768\n",
      "iteration 100 / 1500: loss 2.956362\n",
      "iteration 200 / 1500: loss 2.833432\n",
      "iteration 300 / 1500: loss 2.414224\n",
      "iteration 400 / 1500: loss 2.429864\n",
      "iteration 500 / 1500: loss 2.421793\n",
      "iteration 600 / 1500: loss 2.286437\n",
      "iteration 700 / 1500: loss 2.215906\n",
      "iteration 800 / 1500: loss 2.078634\n",
      "iteration 900 / 1500: loss 2.270486\n",
      "iteration 1000 / 1500: loss 2.055732\n",
      "iteration 1100 / 1500: loss 2.070906\n",
      "iteration 1200 / 1500: loss 2.253933\n",
      "iteration 1300 / 1500: loss 2.157669\n",
      "iteration 1400 / 1500: loss 2.072989\n",
      "iteration 0 / 1500: loss 6.509859\n",
      "iteration 100 / 1500: loss 3.036556\n",
      "iteration 200 / 1500: loss 2.817710\n",
      "iteration 300 / 1500: loss 2.564412\n",
      "iteration 400 / 1500: loss 2.418813\n",
      "iteration 500 / 1500: loss 2.125927\n",
      "iteration 600 / 1500: loss 2.590955\n",
      "iteration 700 / 1500: loss 2.366498\n",
      "iteration 800 / 1500: loss 2.250271\n",
      "iteration 900 / 1500: loss 2.235108\n",
      "iteration 1000 / 1500: loss 2.215379\n",
      "iteration 1100 / 1500: loss 2.193092\n",
      "iteration 1200 / 1500: loss 2.084933\n",
      "iteration 1300 / 1500: loss 2.134696\n",
      "iteration 1400 / 1500: loss 1.964596\n",
      "iteration 0 / 1500: loss 5.567179\n",
      "iteration 100 / 1500: loss 2.856622\n",
      "iteration 200 / 1500: loss 2.646603\n",
      "iteration 300 / 1500: loss 2.426377\n",
      "iteration 400 / 1500: loss 2.491067\n",
      "iteration 500 / 1500: loss 2.436469\n",
      "iteration 600 / 1500: loss 2.314062\n",
      "iteration 700 / 1500: loss 2.322637\n",
      "iteration 800 / 1500: loss 2.151515\n",
      "iteration 900 / 1500: loss 2.218597\n",
      "iteration 1000 / 1500: loss 2.324417\n",
      "iteration 1100 / 1500: loss 2.167377\n",
      "iteration 1200 / 1500: loss 2.154182\n",
      "iteration 1300 / 1500: loss 2.218825\n",
      "iteration 1400 / 1500: loss 1.878402\n",
      "best cross-validation accuracy: 0.36\n"
     ]
    }
   ],
   "source": [
    "# Use the validation set to tune hyperparameters (regularization strength and\n",
    "# learning rate). You should experiment with different ranges for the learning\n",
    "# rates and regularization strengths; if you are careful you should be able to\n",
    "# get a classification accuracy of over 35% on the validation set.\n",
    "\n",
    "import copy\n",
    "best_val_acc = -1\n",
    "best_softmax = None        # You may need to use copy.deepcopy(object)\n",
    "learning_rates = [1e-4,1e-5, 1e-6,5e-7]\n",
    "regularization_strengths = [1e-4, 1e-3, 1e-2, 1e-1, 1e0]\n",
    "results = {}\n",
    "################################################################################\n",
    "# TODO:                                                                        #\n",
    "# Use the validation set to set the learning rate and regularization strength. #\n",
    "# Save the best trained softmax classifer in best_softmax.                     #\n",
    "################################################################################\n",
    "for lr in learning_rates:\n",
    "    for rs in regularization_strengths:\n",
    "        classifier = Softmax()\n",
    "        classifier.train(X_train, y_train, learning_rate=lr, reg=rs,\n",
    "                                  num_iters=1500, verbose=True)\n",
    "        y_val_pred = classifier.predict(X_val)\n",
    "        val_accuracy = np.mean(y_val == y_val_pred)\n",
    "        results[\"lr:{}, rs:{}\".format(lr, rs)] = val_accuracy\n",
    "        if val_accuracy > best_val_acc:\n",
    "            best_val_acc = val_accuracy\n",
    "            best_softmax = copy.deepcopy(classifier)\n",
    "            \n",
    "################################################################################\n",
    "#                              END OF YOUR CODE                                #\n",
    "################################################################################   \n",
    "print('best cross-validation accuracy: %.2f' % best_val_acc)"
   ]
  },
  {
   "cell_type": "code",
   "execution_count": 47,
   "metadata": {},
   "outputs": [
    {
     "name": "stdout",
     "output_type": "stream",
     "text": [
      "softmax on raw pixels final test set accuracy: 34.40\n"
     ]
    }
   ],
   "source": [
    "# evaluate on test set\n",
    "# Evaluate the best softmax on test set\n",
    "y_test_pred = best_softmax.predict(X_test)\n",
    "test_accuracy = np.mean(y_test == y_test_pred)\n",
    "print('softmax on raw pixels final test set accuracy: %.2f' % (100*test_accuracy, ))"
   ]
  },
  {
   "cell_type": "code",
   "execution_count": null,
   "metadata": {},
   "outputs": [],
   "source": []
  }
 ],
 "metadata": {
  "anaconda-cloud": {},
  "kernelspec": {
   "display_name": "Python 3",
   "language": "python",
   "name": "python3"
  },
  "language_info": {
   "codemirror_mode": {
    "name": "ipython",
    "version": 3
   },
   "file_extension": ".py",
   "mimetype": "text/x-python",
   "name": "python",
   "nbconvert_exporter": "python",
   "pygments_lexer": "ipython3",
   "version": "3.6.6"
  }
 },
 "nbformat": 4,
 "nbformat_minor": 1
}
